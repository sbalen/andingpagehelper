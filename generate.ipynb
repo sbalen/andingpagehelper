{
 "cells": [
  {
   "cell_type": "markdown",
   "metadata": {},
   "source": [
    "# Helper function for programmatic SEO\n",
    "This resource helps to generate a couple of landing page around a data source\n",
    "\n",
    "This notebook:\n",
    " - Loads a csv datasource from **data/**\n",
    " - collects templates from **templates/**\n",
    " - Writes an overview page linking to the subpages in **output/**\n",
    " - Writes several subpages in **output/**\n",
    " - Writes the additions to a sitemap in **output/**"
   ]
  },
  {
   "cell_type": "code",
   "execution_count": null,
   "metadata": {},
   "outputs": [],
   "source": [
    "# Here we read the data source for our programmatic pages\n",
    "import pandas as pd\n",
    "df = pd.read_csv(\"data/languages.csv\")\n",
    "lang_variation_dict = df.groupby(['Language']).apply(lambda x: x['Variation'].tolist()).to_dict()"
   ]
  },
  {
   "cell_type": "markdown",
   "metadata": {},
   "source": [
    "## Helper functions"
   ]
  },
  {
   "cell_type": "code",
   "execution_count": null,
   "metadata": {},
   "outputs": [],
   "source": [
    "# takes a html template file marked up with elements to replace\n",
    "# returns the content as string\n",
    "def open_template(path):\n",
    "    text_file = open(path, \"r\")\n",
    "    template = text_file.read()\n",
    "    text_file.close()\n",
    "    return template\n",
    "\n",
    "# takes a string with html contents\n",
    "# writes it to file\n",
    "def write_page(path, str):\n",
    "    f = open(path, \"a\")\n",
    "    f.write(str)\n",
    "    f.close()   \n",
    "    return\n",
    "\n",
    "def insert_values_into_html_template(html_string, replacement_dict):\n",
    "    for replacement in replacement_dict.keys():\n",
    "        html_string = html_string.replace(replacement, replacement_dict[replacement])\n",
    "    return html_string"
   ]
  },
  {
   "cell_type": "markdown",
   "metadata": {},
   "source": [
    "## Generating the overview\n",
    "First we generate the overview page that links to the specific subpages"
   ]
  },
  {
   "cell_type": "code",
   "execution_count": null,
   "metadata": {},
   "outputs": [],
   "source": [
    "# We load the template for the page that links to the programmatic pages\n",
    "overview_template = open_template(\"templates/multilingual.html\")\n",
    "\n",
    "# We construct a HTML fragment with a series of links in list elements\n",
    "html_fragment = \"\".join([\"<li><a href='https://stenos.io/%s.html'>%s</a></li>\" % (x.lower(), x) for x in lang_variation_dict.keys()])\n",
    "\n",
    "# We construct a dict of replacements\n",
    "# And we generate the overview page by replacing the bits in the template\n",
    "replacement_dict = {\"{list_of_languages}\":html_fragment}   \n",
    "overview_page = insert_values_into_html_template(overview_template, replacement_dict)\n",
    "\n",
    "#And we write it to file\n",
    "write_page(\"output/multilingual.html\", overview_page)"
   ]
  },
  {
   "cell_type": "markdown",
   "metadata": {},
   "source": [
    "## Generating the specific subpages"
   ]
  },
  {
   "cell_type": "code",
   "execution_count": null,
   "metadata": {},
   "outputs": [],
   "source": [
    "subpage_template = open_template(\"templates/language.html\")\n",
    "\n",
    "for x in lang_variation_dict.keys():\n",
    "    \n",
    "    # We construct the fragments we want to sub in\n",
    "    language = x\n",
    "    num_variants = \"%d variant\" % (len(lang_variation_dict[x]))\n",
    "    num_variants += \"s\" if len(lang_variation_dict[x])>1 else \"\"\n",
    "    list_of_variants = \"\"\n",
    "    for y in lang_variation_dict[x]:\n",
    "        list_of_variants += \"%s, \" % (y)\n",
    "    \n",
    "    list_of_variants = list_of_variants[:len(list_of_variants)-2]                    \n",
    "    \n",
    "    # We construct a dict of replacements\n",
    "    # And we generate the overview page by replacing the bits in the template\n",
    "    replacement_dict = {\n",
    "        \"{list_of_variants}\":list_of_variants,\n",
    "        \"{language}\":language,\n",
    "        \"{num_variants}\":num_variants\n",
    "    }   \n",
    "    subpage = insert_values_into_html_template(subpage_template, replacement_dict)\n",
    "    write_page(\"output/%s.html\"%(x.lower()), subpage)"
   ]
  },
  {
   "cell_type": "markdown",
   "metadata": {},
   "source": [
    "## Finally update the sitemap"
   ]
  },
  {
   "cell_type": "code",
   "execution_count": null,
   "metadata": {},
   "outputs": [],
   "source": [
    "sitemap_template = open_template(\"templates/sitemap.xml\")\n",
    "\n",
    "# We construct the fragment we want to sub in\n",
    "pages_fragment = \"\"\n",
    "for x in lang_variation_dict.keys():\n",
    "    pages_fragment += \"\"\"<url>\n",
    "        <loc>https://stenos.io/{0}.html</loc>\n",
    "        <lastmod>2022-05-05</lastmod>\n",
    "        <xhtml:link rel='alternate' hreflang='en' href='https://stenos.io/{0}.html'/>\n",
    "    </url>\"\"\".format(x.lower())\n",
    "\n",
    "# We construct a dict of replacements\n",
    "# And we generate the overview page by replacing the bits in the template\n",
    "replacement_dict = {\"{pages}\":pages_fragment}   \n",
    "sitemap = insert_values_into_html_template(sitemap_template, replacement_dict)\n",
    "write_page(\"output/sitemap.xml\", sitemap)"
   ]
  },
  {
   "cell_type": "code",
   "execution_count": null,
   "metadata": {},
   "outputs": [],
   "source": []
  }
 ],
 "metadata": {
  "kernelspec": {
   "display_name": "Python 3",
   "language": "python",
   "name": "python3"
  },
  "language_info": {
   "codemirror_mode": {
    "name": "ipython",
    "version": 3
   },
   "file_extension": ".py",
   "mimetype": "text/x-python",
   "name": "python",
   "nbconvert_exporter": "python",
   "pygments_lexer": "ipython3",
   "version": "3.7.6"
  }
 },
 "nbformat": 4,
 "nbformat_minor": 4
}
