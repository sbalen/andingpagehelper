{
 "cells": [
  {
   "cell_type": "markdown",
   "metadata": {},
   "source": [
    "# Helper function for programmatic pages\n",
    "This resource helps to generate a couple of landing page around a data source. This resource can help with programmatic SEO\n",
    "\n",
    "This notebook:\n",
    " - Loads a csv datasource from **data/**\n",
    " - collects templates from **templates/**\n",
    " - Writes an overview page linking to the subpages in **output/**\n",
    " - Writes several subpages in **output/**\n",
    " - Writes the additions to a sitemap in **output/**"
   ]
  },
  {
   "cell_type": "code",
   "execution_count": 34,
   "metadata": {},
   "outputs": [],
   "source": [
    "# Here we read the data source for our programmatic pages\n",
    "import pandas as pd\n",
    "df = pd.read_csv(\"data/languages.csv\")\n",
    "lang_variation_dict = df.groupby(['Language']).apply(lambda x: x['Variation'].tolist()).to_dict()"
   ]
  },
  {
   "cell_type": "markdown",
   "metadata": {},
   "source": [
    "## Helper functions"
   ]
  },
  {
   "cell_type": "code",
   "execution_count": 1,
   "metadata": {},
   "outputs": [],
   "source": [
    "# takes a html template file marked up with elements to replace\n",
    "# returns the content as string\n",
    "def open_template(path):\n",
    "    text_file = open(path, \"r\")\n",
    "    template = text_file.read()\n",
    "    text_file.close()\n",
    "    return template\n",
    "\n",
    "# takes a string with html contents\n",
    "# writes it to file\n",
    "def write_page(path, str):\n",
    "    f = open(path, \"a\")\n",
    "    f.write(str)\n",
    "    f.close()   \n",
    "    return\n",
    "\n",
    "def insert_values_into_html_template(html_string, replacement_dict):\n",
    "    for replacement in replacement_dict.keys():\n",
    "        html_string = html_string.replace(replacement, replacement_dict[replacement])\n",
    "    return html_string\n",
    "\n",
    "def generate_html_link_list(list_of_elements, link_base=\"https://example.com/\"):\n",
    "    return \"\".join([\"<li><a href='%s%s.html'>%s</a></li>\" % (link_base, x.lower(), x) for x in list_of_elements])\n",
    "\n",
    "def amount_phrase(x, terms = (\"%s item\", \"%s items\")):\n",
    "    phrase = \"\"\n",
    "    if x == 1:\n",
    "        phrase = terms[0] % (x)\n",
    "    else: \n",
    "        phrase = terms[1] % (x)\n",
    "    return phrase\n"
   ]
  },
  {
   "cell_type": "markdown",
   "metadata": {},
   "source": [
    "## Generating the overview\n",
    "First we generate the overview page that links to the specific subpages"
   ]
  },
  {
   "cell_type": "code",
   "execution_count": 13,
   "metadata": {},
   "outputs": [],
   "source": [
    "# We load the template for the page that links to the programmatic pages\n",
    "overview_template = open_template(\"templates/multilingual.html\")\n",
    "\n",
    "# We construct a HTML fragment with a series of links in list elements\n",
    "html_fragment = generate_html_link_list(lang_variation_dict.keys(), \"https://stenos.io/\")\n",
    "\n",
    "# We construct a dict of replacements\n",
    "# And we generate the overview page by replacing the bits in the template\n",
    "replacement_dict = {\"{list_of_languages}\":html_fragment}   \n",
    "overview_page = insert_values_into_html_template(overview_template, replacement_dict)\n",
    "\n",
    "#And we write it to file\n",
    "write_page(\"output/multilingual.html\", overview_page)"
   ]
  },
  {
   "cell_type": "markdown",
   "metadata": {},
   "source": [
    "## Generating the specific subpages"
   ]
  },
  {
   "cell_type": "code",
   "execution_count": 43,
   "metadata": {},
   "outputs": [
    {
     "name": "stdout",
     "output_type": "stream",
     "text": [
      "Afrikaans (South Africa)\n",
      "Amharic (Ethiopia)\n",
      "Arabic (Algeria), Arabic (Bahrain), modern standard, Arabic (Egypt), Arabic (Iraq), Arabic (Israel), Arabic (Jordan), Arabic (Kuwait), Arabic (Lebanon), Arabic (Libya), Arabic (Morocco), Arabic (Oman), Arabic (Palestinian Authority), Arabic (Qatar), Arabic (Saudi Arabia), Arabic (Syria), Arabic (Tunisia), Arabic (United Arab Emirates), Arabic (Yemen)\n",
      "Bulgarian (Bulgaria)\n",
      "Burmese (Myanmar)\n",
      "Catalan (Spain)\n",
      "Chinese (Cantonese, Traditional), Chinese (Mandarin, Simplified), Chinese (Taiwanese Mandarin)\n",
      "Croatian (Croatia)\n",
      "Czech (Czech)\n",
      "Danish (Denmark)\n",
      "Dutch (Belgium), Dutch (Netherlands)\n",
      "English (Australia), English (Canada), English (Ghana), English (Hong Kong), English (India), English (Ireland), English (Kenya), English (New Zealand), English (Nigeria), English (Philippines), English (Singapore), English (South Africa), English (Tanzania), English (United Kingdom), English (United States)\n",
      "Estonian (Estonia)\n",
      "Filipino (Philippines)\n",
      "Finnish (Finland)\n",
      "French (Belgium), French (Canada), French (France), French (Switzerland)\n",
      "German (Austria), German (Germany), German (Switzerland)\n",
      "Greek (Greece)\n",
      "Gujarati (Indian)\n",
      "Hebrew (Israel)\n",
      "Hindi (India)\n",
      "Hungarian (Hungary)\n",
      "Icelandic (Iceland)\n",
      "Indonesian (Indonesia)\n",
      "Irish (Ireland)\n",
      "Italian (Italy)\n",
      "Japanese (Japan)\n",
      "Javanese (Indonesia)\n",
      "Kannada (India)\n",
      "Khmer (Cambodia)\n",
      "Korean (Korea)\n",
      "Lao (Laos)\n",
      "Latvian (Latvia)\n",
      "Lithuanian (Lithuania)\n",
      "Macedonian (North Macedonia)\n",
      "Malay (Malaysia)\n",
      "Maltese (Malta)\n",
      "Marathi (India)\n",
      "Norwegian (Bokmål, Norway)\n",
      "Persian (Iran)\n",
      "Polish (Poland)\n",
      "Portuguese (Brazil), Portuguese (Portugal)\n",
      "Romanian (Romania)\n",
      "Russian (Russia)\n",
      "Serbian (Serbia)\n",
      "Sinhala (Sri Lanka)\n",
      "Slovak (Slovakia)\n",
      "Slovenian (Slovenia)\n",
      "Spanish (Argentina), Spanish (Bolivia), Spanish (Chile), Spanish (Colombia), Spanish (Costa Rica), Spanish (Cuba), Spanish (Dominican Republic), Spanish (Ecuador), Spanish (El Salvador), Spanish (Equatorial Guinea), Spanish (Guatemala), Spanish (Honduras), Spanish (Mexico), Spanish (Nicaragua), Spanish (Panama), Spanish (Paraguay), Spanish (Peru), Spanish (Puerto Rico), Spanish (Spain), Spanish (Uruguay), Spanish (USA), Spanish (Venezuela)\n",
      "Swahili (Kenya), Swahili (Tanzania)\n",
      "Swedish (Sweden)\n",
      "Tamil (India)\n",
      "Telugu (India)\n",
      "Thai (Thailand)\n",
      "Turkish (Turkey)\n",
      "Ukrainian (Ukraine)\n",
      "Uzbek (Uzbekistan)\n",
      "Vietnamese (Vietnam)\n",
      "Zulu (South Africa)\n"
     ]
    }
   ],
   "source": [
    "subpage_template = open_template(\"templates/language.html\")\n",
    "\n",
    "for x in lang_variation_dict.keys():\n",
    "    \n",
    "    # We construct the fragments we want to sub in\n",
    "    language = x\n",
    "    num_variants = amount_phrase(len(lang_variation_dict[x]), [\"% variant\", \"%s variants\"]\n",
    "    list_of_variants = \", \".join(lang_variation_dict[x])\n",
    "    \n",
    "    # We construct a dict of replacements\n",
    "    # And we generate the overview page by replacing the bits in the template\n",
    "    replacement_dict = {\n",
    "        \"{list_of_variants}\":list_of_variants,\n",
    "        \"{language}\":language,\n",
    "        \"{num_variants}\":num_variants\n",
    "    }   \n",
    "    subpage = insert_values_into_html_template(subpage_template, replacement_dict)\n",
    "    write_page(\"output/%s.html\"%(x.lower()), subpage)"
   ]
  },
  {
   "cell_type": "markdown",
   "metadata": {},
   "source": [
    "## Finally update the sitemap"
   ]
  },
  {
   "cell_type": "code",
   "execution_count": 12,
   "metadata": {},
   "outputs": [],
   "source": [
    "sitemap_template = open_template(\"templates/sitemap.xml\")\n",
    "\n",
    "# We construct the fragment we want to sub in\n",
    "pages_fragment = \"\"\n",
    "for x in lang_variation_dict.keys():\n",
    "    pages_fragment += \"\"\"<url>\n",
    "        <loc>https://example.com/{0}.html</loc>\n",
    "        <lastmod>2022-05-05</lastmod>\n",
    "        <xhtml:link rel='alternate' hreflang='en' href='https://example.com/{0}.html'/>\n",
    "    </url>\"\"\".format(x.lower())\n",
    "\n",
    "# We construct a dict of replacements\n",
    "# And we generate the overview page by replacing the bits in the template\n",
    "replacement_dict = {\"{pages}\":pages_fragment}   \n",
    "sitemap = insert_values_into_html_template(sitemap_template, replacement_dict)\n",
    "write_page(\"output/sitemap.xml\", sitemap)"
   ]
  },
  {
   "cell_type": "code",
   "execution_count": null,
   "metadata": {},
   "outputs": [],
   "source": []
  },
  {
   "cell_type": "code",
   "execution_count": null,
   "metadata": {},
   "outputs": [],
   "source": []
  }
 ],
 "metadata": {
  "kernelspec": {
   "display_name": "Python 3",
   "language": "python",
   "name": "python3"
  },
  "language_info": {
   "codemirror_mode": {
    "name": "ipython",
    "version": 3
   },
   "file_extension": ".py",
   "mimetype": "text/x-python",
   "name": "python",
   "nbconvert_exporter": "python",
   "pygments_lexer": "ipython3",
   "version": "3.7.6"
  }
 },
 "nbformat": 4,
 "nbformat_minor": 4
}
